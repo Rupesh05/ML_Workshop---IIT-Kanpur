{
  "nbformat": 4,
  "nbformat_minor": 0,
  "metadata": {
    "colab": {
      "name": "Copy of mnist_mln.ipynb",
      "provenance": [],
      "collapsed_sections": [],
      "include_colab_link": true
    },
    "language_info": {
      "codemirror_mode": {
        "name": "ipython",
        "version": 3
      },
      "file_extension": ".py",
      "mimetype": "text/x-python",
      "name": "python",
      "nbconvert_exporter": "python",
      "pygments_lexer": "ipython3",
      "version": "3.6.8"
    },
    "kernelspec": {
      "name": "python3",
      "display_name": "Python 3"
    },
    "accelerator": "GPU"
  },
  "cells": [
    {
      "cell_type": "markdown",
      "metadata": {
        "id": "view-in-github",
        "colab_type": "text"
      },
      "source": [
        "<a href=\"https://colab.research.google.com/github/Rupesh05/ML_Workshop---IIT-Kanpur/blob/main/mnist_mln.ipynb\" target=\"_parent\"><img src=\"https://colab.research.google.com/assets/colab-badge.svg\" alt=\"Open In Colab\"/></a>"
      ]
    },
    {
      "cell_type": "markdown",
      "metadata": {
        "id": "XT6z9ZhnpEIT"
      },
      "source": [
        "# Classification of handwritten digits using Multi Layered Network"
      ]
    },
    {
      "cell_type": "markdown",
      "metadata": {
        "id": "5y_tiO6VpEIW"
      },
      "source": [
        "# MNIST Dataset\n",
        "\n",
        "<img src=\"https://upload.wikimedia.org/wikipedia/commons/2/27/MnistExamples.png\" title=\"MNIST dataset\" align=\"center\"/>\n",
        "\n"
      ]
    },
    {
      "cell_type": "markdown",
      "metadata": {
        "id": "mdtuMXB3pEIY"
      },
      "source": [
        "# Problem\n",
        "Classify handwritten digits from 0 - 9. <br>\n",
        "Each image is 28x28 pixels\n",
        "\n",
        "<img src=\"https://corochann.com/wp-content/uploads/2017/02/mnist_plot.png\" title=\"\" align=\"center\"/>\n"
      ]
    },
    {
      "cell_type": "markdown",
      "metadata": {
        "id": "655MyG9GpEIa"
      },
      "source": [
        "# Understanding the data"
      ]
    },
    {
      "cell_type": "code",
      "metadata": {
        "id": "VYmbyB0DpEIc",
        "colab": {
          "base_uri": "https://localhost:8080/",
          "height": 90
        },
        "outputId": "0a95f46a-731c-40f7-9d56-17e199e8016e"
      },
      "source": [
        "# MNIST data is present in the keras library. Load the data using load_data function of mnist\n",
        "# Load the data into 4 variables - train_samples, train_labels, test_samples, test_labels\n",
        "from keras.datasets import mnist\n",
        "\n",
        "#Your code here\n",
        "from keras.datasets.mnist import load_data\n",
        "mnist = load_data()\n",
        "(train_samples,train_lables),(test_samples,test_lables) = mnist\n",
        "print(train_samples.dtype)"
      ],
      "execution_count": null,
      "outputs": [
        {
          "output_type": "stream",
          "text": [
            "Using TensorFlow backend.\n"
          ],
          "name": "stderr"
        },
        {
          "output_type": "stream",
          "text": [
            "Downloading data from https://s3.amazonaws.com/img-datasets/mnist.npz\n",
            "11493376/11490434 [==============================] - 1s 0us/step\n",
            "uint8\n"
          ],
          "name": "stdout"
        }
      ]
    },
    {
      "cell_type": "markdown",
      "metadata": {
        "id": "3rJWs7U7pEIo"
      },
      "source": [
        "### Shape of Data"
      ]
    },
    {
      "cell_type": "code",
      "metadata": {
        "id": "oA_bpTzQpEIq",
        "colab": {
          "base_uri": "https://localhost:8080/",
          "height": 90
        },
        "outputId": "b12d13c7-2b75-4775-e440-d3a212d77a40"
      },
      "source": [
        "## Print and observe the shapes of the 4 variables - train_samples, train_labels, test_samples, test_labels\n",
        "\n",
        "#Your code here\n",
        "print(\"train_samples = \",train_samples.shape)\n",
        "print(\"train_lables = \",train_lables.shape)\n",
        "print(\"test_samples = \",test_samples.shape)\n",
        "print(\"test_lables = \",test_lables.shape)"
      ],
      "execution_count": null,
      "outputs": [
        {
          "output_type": "stream",
          "text": [
            "train_samples =  (60000, 28, 28)\n",
            "train_lables =  (60000,)\n",
            "test_samples =  (10000, 28, 28)\n",
            "test_lables =  (10000,)\n"
          ],
          "name": "stdout"
        }
      ]
    },
    {
      "cell_type": "markdown",
      "metadata": {
        "id": "XPrAH3UOpEIw"
      },
      "source": [
        "### Range of Values\n",
        "Look at the range of values"
      ]
    },
    {
      "cell_type": "code",
      "metadata": {
        "id": "bqP-jua_pEIy",
        "colab": {
          "base_uri": "https://localhost:8080/",
          "height": 54
        },
        "outputId": "704ad83a-4721-4392-e965-af125ac8f3d9"
      },
      "source": [
        "import numpy as np\n",
        "### Print max value of samples in train_samples\n",
        "train_samples_max = np.max(train_samples)\n",
        "print(train_samples_max)\n",
        "train_lables_max = np.max(train_lables)\n",
        "print(train_lables_max)\n",
        "# Your code here"
      ],
      "execution_count": null,
      "outputs": [
        {
          "output_type": "stream",
          "text": [
            "255\n",
            "9\n"
          ],
          "name": "stdout"
        }
      ]
    },
    {
      "cell_type": "code",
      "metadata": {
        "id": "bB7KPt8IpEI3",
        "colab": {
          "base_uri": "https://localhost:8080/",
          "height": 54
        },
        "outputId": "f9caaf8f-7c19-4c16-85a3-eeaf2ee37310"
      },
      "source": [
        "### Print min values of samples in train_samples\n",
        "print(np.min(train_samples))\n",
        "print(np.min(train_lables))\n",
        "#Your code here"
      ],
      "execution_count": null,
      "outputs": [
        {
          "output_type": "stream",
          "text": [
            "0\n",
            "0\n"
          ],
          "name": "stdout"
        }
      ]
    },
    {
      "cell_type": "markdown",
      "metadata": {
        "id": "9JnZL9jepEI9"
      },
      "source": [
        "# Data Preparation"
      ]
    },
    {
      "cell_type": "markdown",
      "metadata": {
        "id": "ATWtO7a8pEI_"
      },
      "source": [
        "### Normalize inputs to (0, 1)"
      ]
    },
    {
      "cell_type": "code",
      "metadata": {
        "id": "MCk84w6spEJA"
      },
      "source": [
        "# Convert data type of elements in train_samples and test_samples from uint8 to float32\n",
        "train_samples = train_samples.astype('float32')\n",
        "train_lables = train_lables.astype('float32')\n",
        "test_samples = test_samples.astype('float32')\n",
        "test_lables = test_lables.astype('float32')\n",
        "#print(test_lables)\n",
        "#Your Code here"
      ],
      "execution_count": null,
      "outputs": []
    },
    {
      "cell_type": "code",
      "metadata": {
        "id": "KX0yOsENpEJH"
      },
      "source": [
        "# Normalize inputs to (0,1)\n",
        "mean = np.sum(train_samples, axis=0)/train_samples.shape[0]\n",
        "X1 = train_samples - mean\n",
        "stddev = np.sqrt(np.sum(X1*X1, axis=0)/train_samples.shape[0])\n",
        "train_samples = (train_samples - mean)/(stddev+1e-8)\n",
        "# Divide train_samples and test_samples by max value of train_samples\n",
        "train_samples = train_samples/train_samples_max\n",
        "test_samples = test_samples/train_samples_max\n",
        "#Your code here"
      ],
      "execution_count": null,
      "outputs": []
    },
    {
      "cell_type": "markdown",
      "metadata": {
        "id": "xPrHSdEWpEJO"
      },
      "source": [
        "### Convert outputs to 1-hot vectors"
      ]
    },
    {
      "cell_type": "code",
      "metadata": {
        "id": "yQCs81depEJP"
      },
      "source": [
        "train_lables = np.array(train_lables).reshape(-1,1)\n",
        "test_lables = np.array(test_lables).reshape(-1,1)\n",
        "# convert train_labels and test_labels to 1-hot encoding\n",
        "def oneHot(y, Ny):\n",
        "    Y = np.zeros(Ny)\n",
        "    #X = np.zeros(Ny)\n",
        "    Y[int(y)] = 1\n",
        "    #X[x] = 1\n",
        "    return Y\n",
        "  \n",
        "\n",
        "Ny = 10\n",
        "train_lables_oneHot = np.array([oneHot(y,Ny) for y in train_lables])\n",
        "test_lables_oneHot = np.array([oneHot(x,Ny) for x in test_lables])\n",
        "#print(train_lables_oneHot)\n",
        "\n",
        "#Your code here"
      ],
      "execution_count": null,
      "outputs": []
    },
    {
      "cell_type": "code",
      "metadata": {
        "id": "hmXVv1D7NMsj"
      },
      "source": [
        "print(test_lables)"
      ],
      "execution_count": null,
      "outputs": []
    },
    {
      "cell_type": "markdown",
      "metadata": {
        "id": "YYZUZOV5pEJW"
      },
      "source": [
        "# Network Architecture"
      ]
    },
    {
      "cell_type": "code",
      "metadata": {
        "id": "pleRjvmFpEJY",
        "colab": {
          "base_uri": "https://localhost:8080/",
          "height": 35
        },
        "outputId": "231921a7-680d-44ec-f6e8-9070080b3118"
      },
      "source": [
        "## Input is currently in the shape (samples, height, width)\n",
        "## Reshape it such that it is suitable to be fed into a feed forward network\n",
        "## hint - shape should be (samples, ?)\n",
        "train_samples=train_samples.reshape(60000,-1)\n",
        "print(train_samples.shape)\n",
        "# Your code here"
      ],
      "execution_count": null,
      "outputs": [
        {
          "output_type": "stream",
          "text": [
            "(60000, 784)\n"
          ],
          "name": "stdout"
        }
      ]
    },
    {
      "cell_type": "code",
      "metadata": {
        "id": "pt1GxWQTpEJd",
        "colab": {
          "base_uri": "https://localhost:8080/",
          "height": 92
        },
        "outputId": "156bde30-7e8f-4954-c8b5-c607c1fe1a21"
      },
      "source": [
        "#Layer definitions\n",
        "from keras.layers import Input, Dense\n",
        "from keras import optimizers\n",
        "from keras.models import Model\n",
        "##Create a multi-layered neural network\n",
        "## 1st hidden layer with 512 neurons and 'relu' activation\n",
        "## 2nd hidden layer with 256 neurons and 'relu' activation\n",
        "## Output layer with softmax activation\n",
        "### Use Adam optimizer of keras\n",
        "### Categorical cross entropy is loss\n",
        "# Your code here\n",
        "Nx = 784\n",
        "x = Input(shape=(Nx,))\n",
        "y = Dense(512 , activation = 'relu')(x)\n",
        "y = Dense(256 , activation = 'relu')(y)\n",
        "y = Dense(10, activation = 'softmax')(y)\n",
        "model = Model(inputs=x, outputs=y)\n",
        "model.compile(optimizer=optimizers.Adam(lr=0.01), loss='categorical_crossentropy', metrics=['accuracy'])\n"
      ],
      "execution_count": null,
      "outputs": [
        {
          "output_type": "stream",
          "text": [
            "WARNING:tensorflow:From /usr/local/lib/python3.6/dist-packages/tensorflow/python/framework/op_def_library.py:263: colocate_with (from tensorflow.python.framework.ops) is deprecated and will be removed in a future version.\n",
            "Instructions for updating:\n",
            "Colocations handled automatically by placer.\n"
          ],
          "name": "stdout"
        }
      ]
    },
    {
      "cell_type": "code",
      "metadata": {
        "scrolled": true,
        "id": "r3KQ8txjpEJh",
        "colab": {
          "base_uri": "https://localhost:8080/",
          "height": 290
        },
        "outputId": "8408aa93-91e2-4b30-bd03-6471e8caa306"
      },
      "source": [
        "### Print summary of model and check if it is as desired. Also check total number of parameters to be trained.\n",
        "model.summary()\n",
        "#Your code here"
      ],
      "execution_count": null,
      "outputs": [
        {
          "output_type": "stream",
          "text": [
            "_________________________________________________________________\n",
            "Layer (type)                 Output Shape              Param #   \n",
            "=================================================================\n",
            "input_1 (InputLayer)         (None, 784)               0         \n",
            "_________________________________________________________________\n",
            "dense_1 (Dense)              (None, 512)               401920    \n",
            "_________________________________________________________________\n",
            "dense_2 (Dense)              (None, 256)               131328    \n",
            "_________________________________________________________________\n",
            "dense_3 (Dense)              (None, 10)                2570      \n",
            "=================================================================\n",
            "Total params: 535,818\n",
            "Trainable params: 535,818\n",
            "Non-trainable params: 0\n",
            "_________________________________________________________________\n"
          ],
          "name": "stdout"
        }
      ]
    },
    {
      "cell_type": "code",
      "metadata": {
        "scrolled": true,
        "id": "NSOUas5NpEJn",
        "colab": {
          "base_uri": "https://localhost:8080/",
          "height": 474
        },
        "outputId": "c177b1a6-8f0e-4857-fdc5-60e8b7c84b58"
      },
      "source": [
        "### Fit the model on train samples. Play with different values of epochs and batch_size. \n",
        "### See which gives the optimal result in the least amount of time.\n",
        "model.fit(train_samples, train_lables_oneHot, epochs=10)\n"
      ],
      "execution_count": null,
      "outputs": [
        {
          "output_type": "stream",
          "text": [
            "WARNING:tensorflow:From /usr/local/lib/python3.6/dist-packages/tensorflow/python/ops/math_ops.py:3066: to_int32 (from tensorflow.python.ops.math_ops) is deprecated and will be removed in a future version.\n",
            "Instructions for updating:\n",
            "Use tf.cast instead.\n",
            "Epoch 1/10\n",
            "60000/60000 [==============================] - 9s 153us/step - loss: 0.2410 - acc: 0.9262\n",
            "Epoch 2/10\n",
            "60000/60000 [==============================] - 6s 103us/step - loss: 0.1155 - acc: 0.9650\n",
            "Epoch 3/10\n",
            "60000/60000 [==============================] - 6s 102us/step - loss: 0.0868 - acc: 0.9738\n",
            "Epoch 4/10\n",
            "60000/60000 [==============================] - 6s 101us/step - loss: 0.0695 - acc: 0.9788\n",
            "Epoch 5/10\n",
            "60000/60000 [==============================] - 6s 102us/step - loss: 0.0616 - acc: 0.9818\n",
            "Epoch 6/10\n",
            "60000/60000 [==============================] - 6s 100us/step - loss: 0.0569 - acc: 0.9830\n",
            "Epoch 7/10\n",
            "60000/60000 [==============================] - 6s 101us/step - loss: 0.0520 - acc: 0.9851\n",
            "Epoch 8/10\n",
            "60000/60000 [==============================] - 6s 101us/step - loss: 0.0493 - acc: 0.9864\n",
            "Epoch 9/10\n",
            "60000/60000 [==============================] - 6s 102us/step - loss: 0.0426 - acc: 0.9877\n",
            "Epoch 10/10\n",
            "60000/60000 [==============================] - 6s 102us/step - loss: 0.0401 - acc: 0.9889\n"
          ],
          "name": "stdout"
        },
        {
          "output_type": "execute_result",
          "data": {
            "text/plain": [
              "<keras.callbacks.History at 0x7ff8d3daaa90>"
            ]
          },
          "metadata": {
            "tags": []
          },
          "execution_count": 11
        }
      ]
    },
    {
      "cell_type": "code",
      "metadata": {
        "id": "RVL2JOBPpEJw",
        "colab": {
          "base_uri": "https://localhost:8080/",
          "height": 35
        },
        "outputId": "0cd726b8-efcd-4b8f-b5cc-4328aeeb8790"
      },
      "source": [
        "test_samples = test_samples.reshape(10000,-1)\n",
        "test_lables_oneHot = test_lables_oneHot.reshape(10000,-1)\n",
        "##Evaluate the model on test samples and print accuracy\n",
        "loss, accuracy = model.evaluate(test_samples, test_lables_oneHot, verbose=0)\n",
        "print('Accuracy :%0.3f'%accuracy)\n",
        "Y_pred = model.predict(test_samples)\n",
        "# Your code here"
      ],
      "execution_count": null,
      "outputs": [
        {
          "output_type": "stream",
          "text": [
            "Accuracy :0.831\n"
          ],
          "name": "stdout"
        }
      ]
    },
    {
      "cell_type": "code",
      "metadata": {
        "id": "VsGAJUALpEJ2",
        "colab": {
          "base_uri": "https://localhost:8080/",
          "height": 199
        },
        "outputId": "05ed14b0-bd83-4d10-fbc3-d2a935992856"
      },
      "source": [
        "### Print confusion matrix\n",
        "from sklearn.metrics import confusion_matrix\n",
        "print( confusion_matrix(test_lables_oneHot.argmax(axis=1), Y_pred.argmax(axis=1)) )\n",
        "# Your code here"
      ],
      "execution_count": null,
      "outputs": [
        {
          "output_type": "stream",
          "text": [
            "[[ 974    0    0    0    0    0    0    3    0    3]\n",
            " [   0 1126    1    0    0    0    4    4    0    0]\n",
            " [  66   23  748   62    9    0   11  105    3    5]\n",
            " [   4    3    1  937    1   13    0   34    0   17]\n",
            " [   8    2    0    0  826    0    3   44    0   99]\n",
            " [  59    6    0   40    6  654   34   11    1   81]\n",
            " [ 113    3    0    1    6    1  826    1    0    7]\n",
            " [   2   10    3    0    0    0    0 1009    1    3]\n",
            " [  23   16    2  281    6   51   23   48  354  170]\n",
            " [   8   10    0    8    3    0    1  120    0  859]]\n"
          ],
          "name": "stdout"
        }
      ]
    }
  ]
}